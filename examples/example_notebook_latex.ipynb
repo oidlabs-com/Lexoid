{
 "cells": [
  {
   "cell_type": "code",
   "execution_count": 6,
   "id": "5473e62f",
   "metadata": {},
   "outputs": [
    {
     "name": "stderr",
     "output_type": "stream",
     "text": [
      "\u001b[32m2025-09-12 14:57:32.469\u001b[0m | \u001b[34m\u001b[1mDEBUG   \u001b[0m | \u001b[36mlexoid.api\u001b[0m:\u001b[36mparse_to_latex\u001b[0m:\u001b[36m474\u001b[0m - \u001b[34m\u001b[1mProcessing page 1 with response:\n",
      "\\documentclass{article}\n",
      "\\usepackage{amsmath,graphicx,geometry,tabularx}\n",
      "\\geometry{margin=1in}\n",
      "\\begin{document}\n",
      "\n",
      "% TODO: Title, author, date, and abstract are not visible on this page.\n",
      "\n",
      "\\section*{Example table}\n",
      "This is an example of a data table.\n",
      "\n",
      "\\begin{tabularx}{\\textwidth}{|X|c|c|X|X|X|}\n",
      "\\hline\n",
      "\\textbf{Disability Category} & \\textbf{Participants} & \\textbf{Ballots Completed} & \\textbf{Ballots Incomplete/Terminated} & \\multicolumn{2}{c|}{\\textbf{Results}} \\\\\n",
      "\\cline{5-6}\n",
      "& & & & \\textbf{Accuracy} & \\textbf{Time to complete} \\\\\n",
      "\\hline\n",
      "Blind & 5 & 1 & 4 & 34.5\\%, n=1 & 1199 sec, n=1 \\\\\n",
      "\\hline\n",
      "Low Vision & 5 & 2 & 3 & 98.3\\% n=2 \\newline (97.7\\%, n=3) & 1716 sec, n=3 \\newline (1934 sec, n=2) \\\\\n",
      "\\hline\n",
      "Dexterity & 5 & 4 & 1 & 98.3\\%, n=4 & 1672.1 sec, n=4 \\\\\n",
      "\\hline\n",
      "Mobility & 3 & 3 & 0 & 95.4\\%, n=3 & 1416 sec, n=3 \\\\\n",
      "\\hline\n",
      "\\end{tabularx}\n",
      "\n",
      "\\end{document}\u001b[0m\n"
     ]
    }
   ],
   "source": [
    "from lexoid.api import parse_to_latex\n",
    "\n",
    "pdf_path = \"inputs/test_1.pdf\"\n",
    "\n",
    "parsed_result = parse_to_latex(\n",
    "    path=pdf_path, \n",
    "    model=\"gemini-2.5-flash\",\n",
    "    api=\"gemini\"\n",
    ")"
   ]
  },
  {
   "cell_type": "code",
   "execution_count": null,
   "id": "f2c9cd29",
   "metadata": {},
   "outputs": [],
   "source": []
  }
 ],
 "metadata": {
  "kernelspec": {
   "display_name": ".venv",
   "language": "python",
   "name": "python3"
  },
  "language_info": {
   "codemirror_mode": {
    "name": "ipython",
    "version": 3
   },
   "file_extension": ".py",
   "mimetype": "text/x-python",
   "name": "python",
   "nbconvert_exporter": "python",
   "pygments_lexer": "ipython3",
   "version": "3.12.3"
  }
 },
 "nbformat": 4,
 "nbformat_minor": 5
}
